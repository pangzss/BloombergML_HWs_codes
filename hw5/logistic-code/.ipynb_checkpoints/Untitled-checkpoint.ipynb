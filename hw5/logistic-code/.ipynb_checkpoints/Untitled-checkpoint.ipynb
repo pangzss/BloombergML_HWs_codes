{
 "cells": [
  {
   "cell_type": "code",
   "execution_count": 1,
   "metadata": {},
   "outputs": [],
   "source": [
    "import numpy as np\n",
    "from logreg_skeleton import *"
   ]
  },
  {
   "cell_type": "code",
   "execution_count": 2,
   "metadata": {},
   "outputs": [],
   "source": [
    "X_train = np.loadtxt('X_train.txt',delimiter=',')\n",
    "y_train = np.loadtxt('y_train.txt',delimiter=',')\n",
    "\n",
    "X_val = np.loadtxt('X_val.txt',delimiter=',')\n",
    "y_val = np.loadtxt('y_val.txt',delimiter=',')"
   ]
  },
  {
   "cell_type": "code",
   "execution_count": 3,
   "metadata": {},
   "outputs": [],
   "source": [
    "n,p = X_train.shape"
   ]
  },
  {
   "cell_type": "code",
   "execution_count": 4,
   "metadata": {},
   "outputs": [],
   "source": [
    "# add bias column\n",
    "X_train = np.hstack([X_train,np.ones((n,1))])\n",
    "X_val = np.hstack([X_val,np.ones((X_val.shape[0],1))])"
   ]
  },
  {
   "cell_type": "code",
   "execution_count": 5,
   "metadata": {},
   "outputs": [],
   "source": [
    "# standarize training data\n",
    "def standarize(X):\n",
    "    if np.all(X[:,-1] == 1):\n",
    "        Xd = X[:,:-1]\n",
    "    else:\n",
    "        Xd = X\n",
    "        \n",
    "    mean = np.mean(Xd,axis=0)\n",
    "    std = np.std(Xd,axis=0)\n",
    "    \n",
    "    return np.hstack([(Xd - mean) / (std+1e-5),np.ones((Xd.shape[0],1))]) "
   ]
  },
  {
   "cell_type": "code",
   "execution_count": 6,
   "metadata": {},
   "outputs": [],
   "source": [
    "X_train = standarize(X_train)\n",
    "X_val = standarize(X_val)"
   ]
  },
  {
   "cell_type": "code",
   "execution_count": 7,
   "metadata": {},
   "outputs": [
    {
     "name": "stdout",
     "output_type": "stream",
     "text": [
      "0.6931471805599452\n"
     ]
    }
   ],
   "source": [
    "theta = np.zeros(21)\n",
    "J = f_objective(theta, X_train, y_train, l2_param=1)\n",
    "print(J)"
   ]
  },
  {
   "cell_type": "code",
   "execution_count": 8,
   "metadata": {},
   "outputs": [],
   "source": [
    "theta = fit_logistic_reg(X_train, y_train, l2_param=1)"
   ]
  },
  {
   "cell_type": "code",
   "execution_count": 9,
   "metadata": {},
   "outputs": [
    {
     "name": "stdout",
     "output_type": "stream",
     "text": [
      "0.34224192247885954\n"
     ]
    }
   ],
   "source": [
    "print(f_objective(theta, X_train, y_train, val=False))"
   ]
  },
  {
   "cell_type": "code",
   "execution_count": null,
   "metadata": {},
   "outputs": [],
   "source": [
    "import matplotlib.pyplot as plt"
   ]
  },
  {
   "cell_type": "code",
   "execution_count": 28,
   "metadata": {},
   "outputs": [
    {
     "data": {
      "text/plain": [
       "[<matplotlib.lines.Line2D at 0x2041854ad08>]"
      ]
     },
     "execution_count": 28,
     "metadata": {},
     "output_type": "execute_result"
    },
    {
     "data": {
      "image/png": "[encoded data removed]",
      "text/plain": [
       "<Figure size 432x288 with 1 Axes>"
      ]
     },
     "metadata": {
      "needs_background": "light"
     },
     "output_type": "display_data"
    }
   ],
   "source": [
    "l2_list = [1e-5,1e-4,1e-3]\n",
    "nll_list = []\n",
    "for l2 in l2_list:\n",
    "    theta = fit_logistic_reg(X_train, y_train, l2_param=l2)\n",
    "    nll = f_objective(theta, X_val, y_val, val=True)\n",
    "    nll_list.append(nll)\n",
    "plt.plot(l2_list,nll_list)"
   ]
  },
  {
   "cell_type": "code",
   "execution_count": 34,
   "metadata": {},
   "outputs": [
    {
     "data": {
      "text/plain": [
       "[<matplotlib.lines.Line2D at 0x204186b5a48>]"
      ]
     },
     "execution_count": 34,
     "metadata": {},
     "output_type": "execute_result"
    },
    {
     "data": {
      "image/png": "[encoded data removed]",
      "text/plain": [
       "<Figure size 432x288 with 1 Axes>"
      ]
     },
     "metadata": {
      "needs_background": "light"
     },
     "output_type": "display_data"
    }
   ],
   "source": [
    "l2_list = np.arange(1e-5,1e-2,1e-3)\n",
    "nll_list = []\n",
    "for l2 in l2_list:\n",
    "    theta = fit_logistic_reg(X_train, y_train, l2_param=l2)\n",
    "    nll = f_objective(theta, X_val, y_val, val=True)\n",
    "    nll_list.append(nll)\n",
    "plt.plot(l2_list,nll_list)\n",
    "min_idx = np.argmin(nll_list)\n",
    "plt.plot(l2_list[min_idx],nll_list[min_idx],marker='*')"
   ]
  },
  {
   "cell_type": "code",
   "execution_count": 31,
   "metadata": {},
   "outputs": [
    {
     "data": {
      "text/plain": [
       "array([1.00e-05, 1.01e-03, 2.01e-03, 3.01e-03, 4.01e-03, 5.01e-03,\n",
       "       6.01e-03, 7.01e-03, 8.01e-03, 9.01e-03])"
      ]
     },
     "execution_count": 31,
     "metadata": {},
     "output_type": "execute_result"
    }
   ],
   "source": []
  },
  {
   "cell_type": "code",
   "execution_count": null,
   "metadata": {},
   "outputs": [],
   "source": []
  }
 ],
 "metadata": {
  "kernelspec": {
   "display_name": "Python 3",
   "language": "python",
   "name": "python3"
  },
  "language_info": {
   "codemirror_mode": {
    "name": "ipython",
    "version": 3
   },
   "file_extension": ".py",
   "mimetype": "text/x-python",
   "name": "python",
   "nbconvert_exporter": "python",
   "pygments_lexer": "ipython3",
   "version": "3.7.7"
  }
 },
 "nbformat": 4,
 "nbformat_minor": 4
}
